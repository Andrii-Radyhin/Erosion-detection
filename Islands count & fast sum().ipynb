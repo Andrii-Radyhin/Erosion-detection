{
  "nbformat": 4,
  "nbformat_minor": 0,
  "metadata": {
    "colab": {
      "provenance": [],
      "collapsed_sections": [],
      "authorship_tag": "ABX9TyOeSJrlpnkvlTCJwPw1bXBV",
      "include_colab_link": true
    },
    "kernelspec": {
      "name": "python3",
      "display_name": "Python 3"
    },
    "language_info": {
      "name": "python"
    }
  },
  "cells": [
    {
      "cell_type": "markdown",
      "metadata": {
        "id": "view-in-github",
        "colab_type": "text"
      },
      "source": [
        "<a href=\"https://colab.research.google.com/github/Andrii-Radyhin/Satellite-Segmentation/blob/main/Islands%20count%20%26%20fast%20sum().ipynb\" target=\"_parent\"><img src=\"https://colab.research.google.com/assets/colab-badge.svg\" alt=\"Open In Colab\"/></a>"
      ]
    },
    {
      "cell_type": "markdown",
      "source": [
        "#Task 1"
      ],
      "metadata": {
        "id": "PkQ2n-q92zYm"
      }
    },
    {
      "cell_type": "code",
      "execution_count": null,
      "metadata": {
        "colab": {
          "base_uri": "https://localhost:8080/"
        },
        "id": "uW6hAoqW2xFl",
        "outputId": "83760add-7d5d-41fa-d8a6-ee490857dba9"
      },
      "outputs": [
        {
          "output_type": "stream",
          "name": "stdout",
          "text": [
            "Enter an integer: 1\n",
            "1.0\n"
          ]
        }
      ],
      "source": [
        "x = int(input(\"Enter an integer >= 0: \"))\n",
        "if x >= 0:\n",
        "  res = (x * (x + 1)) / 2\n",
        "  print(res)\n",
        "else:\n",
        "  raise ValueError('Integer >= 0')"
      ]
    },
    {
      "cell_type": "markdown",
      "source": [
        "#Task 2"
      ],
      "metadata": {
        "id": "UXnw9bC223mZ"
      }
    },
    {
      "cell_type": "code",
      "source": [
        "import numpy as np\n",
        "#M-row\n",
        "#N-column"
      ],
      "metadata": {
        "id": "7Hv3hAPsWK3U"
      },
      "execution_count": null,
      "outputs": []
    },
    {
      "cell_type": "markdown",
      "source": [
        "Input"
      ],
      "metadata": {
        "id": "GwDIHRcJZDKE"
      }
    },
    {
      "cell_type": "code",
      "source": [
        "M, N = int(input('Enter M-dim: ')), int(input('Enter N-dim: '))\n",
        "\n",
        "try:\n",
        "  matrix = np.array(list(map(int,input().split()))).reshape(M,N)\n",
        "except ValueError:\n",
        "  print('Please enter the row matrix, using spaces between numbers')"
      ],
      "metadata": {
        "colab": {
          "base_uri": "https://localhost:8080/"
        },
        "id": "eMlvI8OCVBNs",
        "outputId": "70c35b06-2697-4bca-b28e-231815ae6d09"
      },
      "execution_count": null,
      "outputs": [
        {
          "name": "stdout",
          "output_type": "stream",
          "text": [
            "Enter M-dim: 3\n",
            "Enter N-dim: 4\n",
            "0 0 0 1 0 0 1 0 0 1 0 0\n"
          ]
        }
      ]
    },
    {
      "cell_type": "code",
      "source": [
        "class Islands():\n",
        "  def __init__(self, M, N, matrix):\n",
        "    self.M = M\n",
        "    self.N = N\n",
        "    self.matrix = matrix\n",
        "\n",
        "  def __around(self, i , j, checked):\n",
        "    checked[i][j] = 1\n",
        "\n",
        "    steps_around = {0: -1, 1: 0, 0: 1, -1: 0}\n",
        "\n",
        "    for i2, j2 in steps_around.items():\n",
        "      if (i+i2 >= 0 and j+j2 >= 0 \n",
        "          and i+i2 < self.M and j+j2 < self.N \n",
        "          and self.matrix[i+i2][j+j2] and not checked[i+i2][j+j2]):\n",
        "        \n",
        "        self.__around(i + i2, j + j2, checked)\n",
        "\n",
        "  def count(self):\n",
        "    checked = np.zeros((M,N))\n",
        "    counter = 0\n",
        "\n",
        "    for i in range(M):\n",
        "      for j in range(N):\n",
        "        if self.matrix[i][j] == 1 and not checked[i][j]:\n",
        "          counter += 1\n",
        "          self.__around(i, j, checked) \n",
        "    return counter"
      ],
      "metadata": {
        "id": "QB3hngQ1ZGZC"
      },
      "execution_count": null,
      "outputs": []
    },
    {
      "cell_type": "code",
      "source": [
        "res = Islands(M, N, matrix).count()\n",
        "print(res)"
      ],
      "metadata": {
        "colab": {
          "base_uri": "https://localhost:8080/"
        },
        "id": "3yGhrry-t19Y",
        "outputId": "18625b36-c81e-49da-b023-b02dd3a5010e"
      },
      "execution_count": null,
      "outputs": [
        {
          "output_type": "stream",
          "name": "stdout",
          "text": [
            "3\n"
          ]
        }
      ]
    }
  ]
}